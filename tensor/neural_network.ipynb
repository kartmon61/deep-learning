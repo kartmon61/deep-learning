{
 "cells": [
  {
   "cell_type": "code",
   "execution_count": 2,
   "id": "initial_id",
   "metadata": {
    "collapsed": true,
    "ExecuteTime": {
     "end_time": "2024-09-01T14:49:28.078495Z",
     "start_time": "2024-09-01T14:49:27.202634Z"
    }
   },
   "outputs": [],
   "source": [
    "import torch\n",
    "import torch.nn as nn\n",
    "\n",
    "batch_size = 32\n",
    "feature_size = 128 \n",
    "\n",
    "x = torch.rand(batch_size, feature_size)"
   ]
  },
  {
   "cell_type": "code",
   "outputs": [
    {
     "data": {
      "text/plain": "tensor([[0.6828, 0.1631, 0.2930,  ..., 0.4959, 0.8064, 0.9331],\n        [0.8069, 0.9690, 0.2139,  ..., 0.0646, 0.7197, 0.0673],\n        [0.8258, 0.1198, 0.7840,  ..., 0.1507, 0.2348, 0.4673],\n        ...,\n        [0.8257, 0.0345, 0.2853,  ..., 0.0035, 0.5261, 0.8097],\n        [0.8108, 0.0037, 0.3900,  ..., 0.3725, 0.4544, 0.3976],\n        [0.9681, 0.9737, 0.6177,  ..., 0.5118, 0.2648, 0.1053]])"
     },
     "execution_count": 3,
     "metadata": {},
     "output_type": "execute_result"
    }
   ],
   "source": [
    "x"
   ],
   "metadata": {
    "collapsed": false,
    "ExecuteTime": {
     "end_time": "2024-09-01T14:49:30.952086Z",
     "start_time": "2024-09-01T14:49:30.945056Z"
    }
   },
   "id": "3adee8a7b75960bf",
   "execution_count": 3
  },
  {
   "cell_type": "code",
   "outputs": [],
   "source": [
    "in_features = 128\n",
    "out_features = 64\n",
    "layer = nn.Linear(in_features, out_features, bias=True)"
   ],
   "metadata": {
    "collapsed": false,
    "ExecuteTime": {
     "end_time": "2024-09-01T14:50:21.733155Z",
     "start_time": "2024-09-01T14:50:21.730728Z"
    }
   },
   "id": "e0d5191edeed131e",
   "execution_count": 4
  },
  {
   "cell_type": "code",
   "outputs": [
    {
     "data": {
      "text/plain": "Linear(in_features=128, out_features=64, bias=True)"
     },
     "execution_count": 5,
     "metadata": {},
     "output_type": "execute_result"
    }
   ],
   "source": [
    "layer"
   ],
   "metadata": {
    "collapsed": false,
    "ExecuteTime": {
     "end_time": "2024-09-01T14:50:26.398870Z",
     "start_time": "2024-09-01T14:50:26.396211Z"
    }
   },
   "id": "b7482e3ef7b1b85a",
   "execution_count": 5
  },
  {
   "cell_type": "code",
   "outputs": [
    {
     "data": {
      "text/plain": "torch.Size([64, 128])"
     },
     "execution_count": 6,
     "metadata": {},
     "output_type": "execute_result"
    }
   ],
   "source": [
    "layer.weight.shape"
   ],
   "metadata": {
    "collapsed": false,
    "ExecuteTime": {
     "end_time": "2024-09-01T14:50:38.264283Z",
     "start_time": "2024-09-01T14:50:38.261433Z"
    }
   },
   "id": "87c42d1019ca8fe8",
   "execution_count": 6
  },
  {
   "cell_type": "code",
   "outputs": [],
   "source": [
    "x = torch.rand(8, 128)\n",
    "output = layer(x)"
   ],
   "metadata": {
    "collapsed": false,
    "ExecuteTime": {
     "end_time": "2024-09-01T14:53:10.201421Z",
     "start_time": "2024-09-01T14:53:10.197403Z"
    }
   },
   "id": "45a3ed8eadb9fe24",
   "execution_count": 7
  },
  {
   "cell_type": "code",
   "outputs": [
    {
     "data": {
      "text/plain": "tensor([[-4.6097e-01,  2.5364e-01, -3.0493e-01, -8.3769e-02, -1.7225e-01,\n         -4.0375e-02,  3.3306e-01,  4.1602e-01,  5.1499e-01, -4.0380e-01,\n         -7.1488e-02, -6.2799e-01, -5.4174e-01, -3.2508e-01, -1.3965e-01,\n          1.2884e-01, -3.6300e-02,  4.2453e-01, -7.2954e-02, -4.5699e-01,\n          7.6925e-02,  2.9446e-01,  1.9086e-01, -1.7215e-01, -4.5839e-01,\n          8.2610e-01,  4.8344e-01,  4.7202e-01,  6.1189e-01,  2.5614e-01,\n          1.8071e-01,  1.8434e-01,  3.3371e-01,  2.9522e-02,  3.6208e-01,\n         -8.9819e-02,  1.1613e-01, -2.1760e-01,  4.0662e-01, -3.2141e-01,\n          9.4885e-03, -2.0190e-01,  4.6126e-01, -2.1529e-01,  4.0823e-01,\n          1.5791e-01, -1.2949e-01, -1.9354e-01,  1.3291e-01, -6.7900e-01,\n          2.4545e-01, -3.8074e-02, -4.2377e-01, -5.2319e-01,  4.6036e-01,\n          3.6575e-01,  4.3090e-01, -5.0608e-01, -1.7950e-01,  6.2847e-01,\n         -3.8765e-02,  2.0048e-01,  6.4281e-02,  6.9703e-02],\n        [-4.7128e-01,  1.3872e-01,  2.8916e-01,  5.4121e-02,  7.3868e-02,\n         -2.4781e-01,  1.6716e-01,  7.1741e-01,  4.5109e-01, -3.4322e-01,\n          2.2907e-01, -3.9909e-01, -5.7196e-01, -4.7009e-02, -4.9434e-01,\n          3.7601e-01, -4.5356e-01,  2.0999e-01, -2.0501e-01, -2.7348e-01,\n          1.4571e-03,  2.6403e-01,  1.7473e-01,  9.7442e-02, -4.6883e-01,\n          6.3393e-01,  4.3852e-01,  5.8091e-01,  3.0901e-01,  4.9152e-01,\n          2.7695e-02,  2.3085e-01,  2.9070e-01,  2.6805e-01,  6.2619e-01,\n         -2.8504e-01,  4.6976e-01,  2.3053e-01,  3.3208e-01, -9.1906e-01,\n         -3.8855e-02, -4.1440e-01,  2.9340e-01, -8.7940e-01,  6.6798e-01,\n          2.8321e-01,  8.5150e-02, -3.1499e-01,  2.6848e-01, -8.4172e-01,\n          4.4118e-01, -1.2505e-01, -1.0601e+00, -1.3227e-01,  1.3653e-01,\n          3.9159e-01,  3.6139e-02, -6.7885e-01,  8.8576e-02,  6.8594e-01,\n         -1.2558e-02, -2.6560e-02,  3.5201e-01,  1.9619e-01],\n        [-4.2465e-01,  5.6064e-01, -3.6573e-01,  1.1763e-01, -3.2454e-01,\n          2.6642e-01,  6.1448e-01,  5.7026e-01,  5.4632e-01, -1.6001e-01,\n         -9.5818e-03, -6.3977e-01, -3.9962e-01, -3.4400e-01, -3.9758e-01,\n          1.1292e-01, -2.1191e-01,  3.1629e-01,  1.2683e-01, -3.9736e-01,\n          8.9479e-03,  1.3352e-01,  7.9942e-02, -7.0696e-02, -8.1318e-01,\n          7.3579e-01,  5.4793e-01,  3.3043e-01,  6.7220e-01,  2.7528e-01,\n          3.6557e-01,  1.3732e-01,  1.3810e-01, -3.0185e-02,  4.7076e-01,\n          1.6187e-01,  8.3740e-02, -4.0633e-03,  8.9510e-01, -6.5216e-01,\n          1.1638e-01, -1.1689e-01,  4.2867e-01, -2.2125e-01,  7.2416e-01,\n          2.0067e-01,  3.0130e-03, -2.4401e-01,  4.4806e-01, -7.9306e-01,\n          4.4053e-01,  1.7493e-02, -6.9881e-01, -3.2853e-01,  6.7097e-01,\n          2.1146e-01,  2.3787e-01, -6.1687e-01,  9.5808e-02,  6.0332e-01,\n         -3.6806e-01,  2.3815e-01,  6.3680e-02,  1.4473e-01],\n        [-3.1340e-01,  6.3580e-02, -5.8576e-02, -1.3682e-01,  1.6930e-01,\n          1.8637e-02,  3.3516e-01,  5.8554e-01,  1.1845e-01, -2.7825e-01,\n          4.1143e-01, -3.6814e-01, -2.9372e-01, -1.8294e-01, -3.0586e-01,\n          5.3631e-01, -2.2460e-01,  4.0472e-02, -2.2822e-01, -2.2208e-01,\n         -1.9108e-01,  1.1356e-01,  1.1534e-01, -1.3027e-01, -7.9733e-01,\n          7.1967e-01,  2.8747e-01,  4.3498e-01,  7.3183e-01,  3.8001e-01,\n         -2.0861e-01,  2.9765e-01,  3.7798e-01, -1.6967e-01,  7.1312e-01,\n          1.6322e-01,  5.2324e-01, -1.3109e-01,  7.2130e-01, -3.8073e-01,\n          3.3822e-01,  7.6652e-02,  4.9473e-01,  1.1886e-01,  4.5137e-01,\n          2.7627e-01,  1.3733e-01,  6.7622e-02,  2.7011e-01, -6.9345e-01,\n          1.5921e-01, -4.2870e-01, -2.1405e-01, -6.2612e-01,  3.8563e-01,\n          4.3305e-01,  1.8018e-01, -2.4745e-01,  4.0934e-03,  3.5419e-01,\n         -2.2414e-01, -1.0765e-02, -2.1566e-01,  1.8937e-01],\n        [-6.5541e-01,  2.2075e-01,  2.1498e-01, -3.2019e-01, -2.7730e-02,\n         -1.6744e-01,  2.4279e-01,  5.4063e-01,  4.0996e-01,  1.0917e-02,\n          2.9191e-01, -4.0549e-01, -6.6819e-01, -1.7774e-01, -2.3274e-02,\n          2.3049e-01, -2.2639e-02,  2.1721e-01,  1.4897e-01, -1.1534e-01,\n         -1.7336e-01,  1.4842e-01,  2.7961e-01,  8.1886e-02, -5.7047e-01,\n          8.5601e-01,  4.6227e-01, -9.7676e-02,  5.8284e-01,  2.0206e-01,\n         -1.8407e-01,  2.5311e-01,  4.2010e-01,  1.4831e-01,  4.2447e-01,\n         -6.0994e-02,  1.6598e-01,  1.6618e-01,  6.1116e-01, -3.8638e-01,\n          2.4359e-01, -2.1327e-01,  9.7654e-02, -4.9209e-01,  3.0204e-01,\n          6.1299e-01, -1.2042e-01, -3.4841e-01,  3.4171e-01, -5.2498e-01,\n          3.7230e-01, -2.1287e-01, -3.0107e-01, -4.0834e-01,  3.3095e-01,\n          1.9432e-01,  1.9843e-01, -1.4985e-01,  5.1630e-02,  2.8323e-01,\n          3.7455e-03,  4.2737e-02, -9.3006e-02,  4.1301e-01],\n        [-4.6956e-01,  2.2180e-01, -3.9311e-01,  1.3849e-01, -1.8688e-01,\n         -5.6537e-02,  2.7416e-01, -4.2210e-03,  4.8424e-01,  5.8070e-02,\n          2.1661e-01, -1.0951e-01, -2.3703e-01, -1.2885e-01, -5.2085e-01,\n          3.8458e-01, -1.9151e-01,  3.6752e-01,  4.1261e-02, -3.1580e-01,\n         -2.4728e-01,  7.6838e-01,  3.6574e-01, -3.7922e-01, -5.9603e-01,\n          5.8421e-01,  2.6768e-01,  2.7427e-01,  2.1535e-01,  4.2251e-01,\n         -4.0498e-01,  9.3255e-03,  3.2420e-01,  6.8318e-02,  2.9483e-01,\n          1.6459e-02,  3.8145e-01, -3.6177e-01,  7.0998e-01, -6.9545e-01,\n          2.6952e-01, -4.3192e-01,  2.1098e-01, -3.7535e-01,  3.2948e-01,\n          2.2399e-01,  8.6837e-02, -7.7607e-02,  1.4884e-01, -7.3594e-01,\n          4.1153e-01, -2.9034e-01, -4.4629e-01, -2.9526e-01,  4.4681e-01,\n          4.2734e-01, -5.9187e-04, -4.4420e-01, -9.2583e-02,  4.1500e-01,\n          1.7927e-02, -8.8550e-03,  2.0310e-01,  2.9267e-01],\n        [-5.0204e-01,  4.9163e-01, -4.5552e-01, -5.6783e-02, -2.5504e-01,\n          4.8981e-02,  6.4537e-01,  3.9959e-01,  4.6675e-01,  2.4984e-01,\n         -2.1232e-01, -4.8288e-01, -3.1799e-01, -1.9301e-01, -4.3161e-01,\n          1.5554e-01, -1.7932e-01,  4.0104e-01, -1.1443e-01, -1.7155e-01,\n         -1.7346e-02,  2.8954e-01,  1.5936e-01, -1.5749e-02, -6.6663e-01,\n          5.9942e-01,  4.9469e-01,  3.5936e-01,  6.0413e-01,  4.9932e-01,\n          1.3283e-01, -1.0239e-01,  3.8320e-01, -7.9959e-02,  1.0888e-01,\n          1.0033e-01, -1.7375e-01, -2.6338e-01,  7.3049e-01, -5.7659e-01,\n         -1.3052e-01, -2.2519e-01,  3.4651e-01, -2.6211e-01,  5.9406e-01,\n          3.6342e-01,  1.5718e-01, -1.8712e-01,  6.3374e-01, -9.8114e-01,\n          4.2694e-01,  9.7551e-02, -5.2750e-01, -2.0364e-01,  7.6486e-01,\n          3.9382e-01,  2.0923e-01, -5.0965e-01,  2.5140e-04,  5.3543e-01,\n         -8.7472e-02,  1.4157e-01, -2.0297e-01,  9.1536e-02],\n        [-3.8704e-01,  3.4915e-01,  1.1161e-02, -3.2230e-01,  2.7257e-01,\n         -2.0409e-01,  6.6039e-01,  7.5460e-01,  3.5726e-01, -1.4156e-02,\n          1.4301e-01, -2.4343e-01, -5.6432e-01, -2.2406e-01, -2.9022e-01,\n          2.5453e-02, -1.6852e-01,  4.3216e-01,  1.5285e-01, -2.1902e-01,\n          1.0869e-02,  2.1131e-01,  1.9789e-01,  3.4879e-01, -5.2291e-01,\n          7.7699e-01,  5.3828e-01,  3.4632e-01,  2.7355e-01,  7.0147e-01,\n          1.7009e-01, -9.0129e-02,  3.0471e-01,  2.1466e-01,  3.7695e-01,\n         -1.1425e-01,  2.6679e-01,  1.5029e-01,  7.0879e-01, -6.6453e-01,\n          2.5710e-02, -1.9367e-01,  3.8707e-01, -7.6036e-02,  7.3301e-01,\n          2.4126e-01,  2.1520e-01,  2.9727e-01,  5.0529e-02, -5.0382e-01,\n          2.1839e-01, -2.6595e-02, -4.7379e-01, -2.4785e-01,  5.3635e-01,\n          3.6506e-01, -3.6192e-02, -3.0553e-01, -2.7202e-01,  2.6209e-01,\n          4.8812e-02,  1.4118e-01,  3.4938e-02,  1.8713e-02]],\n       grad_fn=<AddmmBackward0>)"
     },
     "execution_count": 9,
     "metadata": {},
     "output_type": "execute_result"
    }
   ],
   "source": [
    "output"
   ],
   "metadata": {
    "collapsed": false,
    "ExecuteTime": {
     "end_time": "2024-09-01T14:53:43.996587Z",
     "start_time": "2024-09-01T14:53:43.988829Z"
    }
   },
   "id": "57e0967c35d5cfcd",
   "execution_count": 9
  },
  {
   "cell_type": "code",
   "outputs": [],
   "source": [
    "output_2 = x @ layer.weight.t() + layer.bias"
   ],
   "metadata": {
    "collapsed": false,
    "ExecuteTime": {
     "end_time": "2024-09-01T14:53:31.782050Z",
     "start_time": "2024-09-01T14:53:31.779678Z"
    }
   },
   "id": "694d92efb186b16e",
   "execution_count": 8
  },
  {
   "cell_type": "code",
   "outputs": [
    {
     "data": {
      "text/plain": "tensor([[-4.6097e-01,  2.5364e-01, -3.0493e-01, -8.3769e-02, -1.7225e-01,\n         -4.0375e-02,  3.3306e-01,  4.1602e-01,  5.1499e-01, -4.0380e-01,\n         -7.1488e-02, -6.2799e-01, -5.4174e-01, -3.2508e-01, -1.3965e-01,\n          1.2884e-01, -3.6300e-02,  4.2453e-01, -7.2954e-02, -4.5699e-01,\n          7.6925e-02,  2.9446e-01,  1.9086e-01, -1.7215e-01, -4.5839e-01,\n          8.2610e-01,  4.8344e-01,  4.7202e-01,  6.1189e-01,  2.5614e-01,\n          1.8071e-01,  1.8434e-01,  3.3371e-01,  2.9522e-02,  3.6208e-01,\n         -8.9819e-02,  1.1613e-01, -2.1760e-01,  4.0662e-01, -3.2141e-01,\n          9.4885e-03, -2.0190e-01,  4.6126e-01, -2.1529e-01,  4.0823e-01,\n          1.5791e-01, -1.2949e-01, -1.9354e-01,  1.3291e-01, -6.7900e-01,\n          2.4545e-01, -3.8074e-02, -4.2377e-01, -5.2319e-01,  4.6036e-01,\n          3.6575e-01,  4.3090e-01, -5.0608e-01, -1.7950e-01,  6.2847e-01,\n         -3.8765e-02,  2.0048e-01,  6.4281e-02,  6.9703e-02],\n        [-4.7128e-01,  1.3872e-01,  2.8916e-01,  5.4121e-02,  7.3868e-02,\n         -2.4781e-01,  1.6716e-01,  7.1741e-01,  4.5109e-01, -3.4322e-01,\n          2.2907e-01, -3.9909e-01, -5.7196e-01, -4.7009e-02, -4.9434e-01,\n          3.7601e-01, -4.5356e-01,  2.0999e-01, -2.0501e-01, -2.7348e-01,\n          1.4571e-03,  2.6403e-01,  1.7473e-01,  9.7442e-02, -4.6883e-01,\n          6.3393e-01,  4.3852e-01,  5.8091e-01,  3.0901e-01,  4.9152e-01,\n          2.7695e-02,  2.3085e-01,  2.9070e-01,  2.6805e-01,  6.2619e-01,\n         -2.8504e-01,  4.6976e-01,  2.3053e-01,  3.3208e-01, -9.1906e-01,\n         -3.8855e-02, -4.1440e-01,  2.9340e-01, -8.7940e-01,  6.6798e-01,\n          2.8321e-01,  8.5150e-02, -3.1499e-01,  2.6848e-01, -8.4172e-01,\n          4.4118e-01, -1.2505e-01, -1.0601e+00, -1.3227e-01,  1.3653e-01,\n          3.9159e-01,  3.6139e-02, -6.7885e-01,  8.8576e-02,  6.8594e-01,\n         -1.2558e-02, -2.6560e-02,  3.5201e-01,  1.9619e-01],\n        [-4.2465e-01,  5.6064e-01, -3.6573e-01,  1.1763e-01, -3.2454e-01,\n          2.6642e-01,  6.1448e-01,  5.7026e-01,  5.4632e-01, -1.6001e-01,\n         -9.5818e-03, -6.3977e-01, -3.9962e-01, -3.4400e-01, -3.9758e-01,\n          1.1292e-01, -2.1191e-01,  3.1629e-01,  1.2683e-01, -3.9736e-01,\n          8.9478e-03,  1.3352e-01,  7.9942e-02, -7.0696e-02, -8.1318e-01,\n          7.3579e-01,  5.4793e-01,  3.3043e-01,  6.7220e-01,  2.7528e-01,\n          3.6557e-01,  1.3732e-01,  1.3810e-01, -3.0185e-02,  4.7076e-01,\n          1.6187e-01,  8.3740e-02, -4.0634e-03,  8.9510e-01, -6.5216e-01,\n          1.1638e-01, -1.1689e-01,  4.2867e-01, -2.2125e-01,  7.2416e-01,\n          2.0067e-01,  3.0131e-03, -2.4401e-01,  4.4806e-01, -7.9306e-01,\n          4.4053e-01,  1.7493e-02, -6.9881e-01, -3.2853e-01,  6.7097e-01,\n          2.1146e-01,  2.3787e-01, -6.1687e-01,  9.5808e-02,  6.0332e-01,\n         -3.6806e-01,  2.3815e-01,  6.3680e-02,  1.4473e-01],\n        [-3.1340e-01,  6.3580e-02, -5.8576e-02, -1.3682e-01,  1.6930e-01,\n          1.8637e-02,  3.3516e-01,  5.8554e-01,  1.1845e-01, -2.7825e-01,\n          4.1143e-01, -3.6814e-01, -2.9372e-01, -1.8294e-01, -3.0586e-01,\n          5.3631e-01, -2.2460e-01,  4.0472e-02, -2.2822e-01, -2.2208e-01,\n         -1.9108e-01,  1.1356e-01,  1.1534e-01, -1.3027e-01, -7.9733e-01,\n          7.1967e-01,  2.8747e-01,  4.3498e-01,  7.3183e-01,  3.8001e-01,\n         -2.0861e-01,  2.9765e-01,  3.7798e-01, -1.6967e-01,  7.1311e-01,\n          1.6322e-01,  5.2324e-01, -1.3109e-01,  7.2130e-01, -3.8073e-01,\n          3.3822e-01,  7.6652e-02,  4.9473e-01,  1.1886e-01,  4.5137e-01,\n          2.7627e-01,  1.3733e-01,  6.7622e-02,  2.7011e-01, -6.9345e-01,\n          1.5921e-01, -4.2870e-01, -2.1405e-01, -6.2612e-01,  3.8563e-01,\n          4.3305e-01,  1.8018e-01, -2.4745e-01,  4.0935e-03,  3.5419e-01,\n         -2.2414e-01, -1.0765e-02, -2.1566e-01,  1.8937e-01],\n        [-6.5541e-01,  2.2075e-01,  2.1498e-01, -3.2019e-01, -2.7730e-02,\n         -1.6744e-01,  2.4279e-01,  5.4063e-01,  4.0996e-01,  1.0917e-02,\n          2.9191e-01, -4.0549e-01, -6.6819e-01, -1.7774e-01, -2.3274e-02,\n          2.3049e-01, -2.2639e-02,  2.1721e-01,  1.4897e-01, -1.1534e-01,\n         -1.7336e-01,  1.4842e-01,  2.7961e-01,  8.1886e-02, -5.7047e-01,\n          8.5601e-01,  4.6227e-01, -9.7676e-02,  5.8284e-01,  2.0206e-01,\n         -1.8407e-01,  2.5311e-01,  4.2010e-01,  1.4831e-01,  4.2447e-01,\n         -6.0994e-02,  1.6598e-01,  1.6618e-01,  6.1116e-01, -3.8638e-01,\n          2.4359e-01, -2.1327e-01,  9.7654e-02, -4.9209e-01,  3.0204e-01,\n          6.1299e-01, -1.2042e-01, -3.4841e-01,  3.4171e-01, -5.2498e-01,\n          3.7230e-01, -2.1287e-01, -3.0107e-01, -4.0834e-01,  3.3095e-01,\n          1.9432e-01,  1.9843e-01, -1.4985e-01,  5.1630e-02,  2.8323e-01,\n          3.7454e-03,  4.2737e-02, -9.3006e-02,  4.1301e-01],\n        [-4.6956e-01,  2.2180e-01, -3.9311e-01,  1.3849e-01, -1.8688e-01,\n         -5.6537e-02,  2.7416e-01, -4.2210e-03,  4.8424e-01,  5.8070e-02,\n          2.1661e-01, -1.0951e-01, -2.3703e-01, -1.2885e-01, -5.2085e-01,\n          3.8458e-01, -1.9151e-01,  3.6752e-01,  4.1261e-02, -3.1580e-01,\n         -2.4728e-01,  7.6838e-01,  3.6574e-01, -3.7922e-01, -5.9603e-01,\n          5.8421e-01,  2.6768e-01,  2.7427e-01,  2.1535e-01,  4.2251e-01,\n         -4.0498e-01,  9.3255e-03,  3.2420e-01,  6.8318e-02,  2.9483e-01,\n          1.6459e-02,  3.8145e-01, -3.6177e-01,  7.0998e-01, -6.9545e-01,\n          2.6952e-01, -4.3192e-01,  2.1098e-01, -3.7535e-01,  3.2948e-01,\n          2.2399e-01,  8.6837e-02, -7.7607e-02,  1.4884e-01, -7.3594e-01,\n          4.1153e-01, -2.9034e-01, -4.4629e-01, -2.9526e-01,  4.4681e-01,\n          4.2734e-01, -5.9187e-04, -4.4420e-01, -9.2583e-02,  4.1500e-01,\n          1.7927e-02, -8.8550e-03,  2.0310e-01,  2.9267e-01],\n        [-5.0204e-01,  4.9163e-01, -4.5552e-01, -5.6783e-02, -2.5504e-01,\n          4.8981e-02,  6.4537e-01,  3.9959e-01,  4.6675e-01,  2.4984e-01,\n         -2.1232e-01, -4.8288e-01, -3.1799e-01, -1.9301e-01, -4.3161e-01,\n          1.5554e-01, -1.7932e-01,  4.0104e-01, -1.1443e-01, -1.7155e-01,\n         -1.7346e-02,  2.8954e-01,  1.5936e-01, -1.5749e-02, -6.6663e-01,\n          5.9942e-01,  4.9469e-01,  3.5936e-01,  6.0413e-01,  4.9932e-01,\n          1.3283e-01, -1.0239e-01,  3.8320e-01, -7.9959e-02,  1.0888e-01,\n          1.0033e-01, -1.7375e-01, -2.6338e-01,  7.3049e-01, -5.7659e-01,\n         -1.3052e-01, -2.2519e-01,  3.4651e-01, -2.6211e-01,  5.9406e-01,\n          3.6342e-01,  1.5718e-01, -1.8712e-01,  6.3374e-01, -9.8114e-01,\n          4.2694e-01,  9.7551e-02, -5.2750e-01, -2.0364e-01,  7.6486e-01,\n          3.9382e-01,  2.0923e-01, -5.0965e-01,  2.5139e-04,  5.3543e-01,\n         -8.7472e-02,  1.4157e-01, -2.0297e-01,  9.1536e-02],\n        [-3.8704e-01,  3.4915e-01,  1.1161e-02, -3.2230e-01,  2.7257e-01,\n         -2.0409e-01,  6.6039e-01,  7.5460e-01,  3.5725e-01, -1.4156e-02,\n          1.4301e-01, -2.4343e-01, -5.6432e-01, -2.2406e-01, -2.9022e-01,\n          2.5453e-02, -1.6852e-01,  4.3216e-01,  1.5285e-01, -2.1902e-01,\n          1.0869e-02,  2.1131e-01,  1.9789e-01,  3.4879e-01, -5.2291e-01,\n          7.7699e-01,  5.3828e-01,  3.4632e-01,  2.7355e-01,  7.0147e-01,\n          1.7009e-01, -9.0129e-02,  3.0471e-01,  2.1466e-01,  3.7695e-01,\n         -1.1425e-01,  2.6679e-01,  1.5029e-01,  7.0879e-01, -6.6453e-01,\n          2.5710e-02, -1.9367e-01,  3.8707e-01, -7.6036e-02,  7.3301e-01,\n          2.4126e-01,  2.1520e-01,  2.9727e-01,  5.0529e-02, -5.0382e-01,\n          2.1839e-01, -2.6595e-02, -4.7379e-01, -2.4785e-01,  5.3635e-01,\n          3.6506e-01, -3.6192e-02, -3.0553e-01, -2.7202e-01,  2.6209e-01,\n          4.8812e-02,  1.4118e-01,  3.4938e-02,  1.8713e-02]],\n       grad_fn=<AddBackward0>)"
     },
     "execution_count": 10,
     "metadata": {},
     "output_type": "execute_result"
    }
   ],
   "source": [
    "output_2"
   ],
   "metadata": {
    "collapsed": false,
    "ExecuteTime": {
     "end_time": "2024-09-01T14:53:46.019643Z",
     "start_time": "2024-09-01T14:53:46.010771Z"
    }
   },
   "id": "eeb0ea55d63e5e84",
   "execution_count": 10
  },
  {
   "cell_type": "code",
   "outputs": [
    {
     "data": {
      "text/plain": "torch.Size([8, 128])"
     },
     "execution_count": 11,
     "metadata": {},
     "output_type": "execute_result"
    }
   ],
   "source": [
    "x = torch.rand(8, 128)\n",
    "act_fn = torch.nn.Sigmoid()\n",
    "\n",
    "out = act_fn(x)\n",
    "out.shape"
   ],
   "metadata": {
    "collapsed": false,
    "ExecuteTime": {
     "end_time": "2024-09-01T15:09:32.484695Z",
     "start_time": "2024-09-01T15:09:32.478314Z"
    }
   },
   "id": "1e634fad9567fe70",
   "execution_count": 11
  },
  {
   "cell_type": "code",
   "outputs": [
    {
     "data": {
      "text/plain": "torch.Size([8, 128])"
     },
     "execution_count": 12,
     "metadata": {},
     "output_type": "execute_result"
    }
   ],
   "source": [
    "x = torch.rand(8, 128)\n",
    "act_fn = torch.nn.Tanh()\n",
    "\n",
    "out = act_fn(x)\n",
    "out.shape"
   ],
   "metadata": {
    "collapsed": false,
    "ExecuteTime": {
     "end_time": "2024-09-01T15:09:44.525978Z",
     "start_time": "2024-09-01T15:09:44.522585Z"
    }
   },
   "id": "5d7c3bf896499322",
   "execution_count": 12
  },
  {
   "cell_type": "code",
   "outputs": [
    {
     "data": {
      "text/plain": "torch.Size([8, 128])"
     },
     "execution_count": 13,
     "metadata": {},
     "output_type": "execute_result"
    }
   ],
   "source": [
    "x = torch.rand(8, 128)\n",
    "act_fn = torch.nn.ReLU()\n",
    "\n",
    "out = act_fn(x)\n",
    "out.shape"
   ],
   "metadata": {
    "collapsed": false,
    "ExecuteTime": {
     "end_time": "2024-09-01T15:09:58.471850Z",
     "start_time": "2024-09-01T15:09:58.468874Z"
    }
   },
   "id": "d4d9fa9f02879c72",
   "execution_count": 13
  },
  {
   "cell_type": "code",
   "outputs": [
    {
     "data": {
      "text/plain": "torch.Size([1, 20])"
     },
     "execution_count": 17,
     "metadata": {},
     "output_type": "execute_result"
    }
   ],
   "source": [
    "x = torch.rand(1, 20)\n",
    "softmax = torch.nn.Softmax(dim=1)\n",
    "\n",
    "pred_proba = softmax(x)\n",
    "pred_proba.shape\n"
   ],
   "metadata": {
    "collapsed": false,
    "ExecuteTime": {
     "end_time": "2024-09-01T15:12:51.885524Z",
     "start_time": "2024-09-01T15:12:51.883031Z"
    }
   },
   "id": "d9ee3f8e93c0f211",
   "execution_count": 17
  },
  {
   "cell_type": "code",
   "outputs": [
    {
     "name": "stdout",
     "output_type": "stream",
     "text": [
      "Sum of logits : 6.829951763153076\n",
      "Sum of probabilities : 1.0\n"
     ]
    }
   ],
   "source": [
    "print('Sum of logits :', torch.sum(x, dim=1).item())\n",
    "print('Sum of probabilities :', torch.sum(pred_proba, dim=1).item())"
   ],
   "metadata": {
    "collapsed": false,
    "ExecuteTime": {
     "end_time": "2024-09-01T15:13:12.720809Z",
     "start_time": "2024-09-01T15:13:12.717331Z"
    }
   },
   "id": "dfa173d3fc1c878f",
   "execution_count": 19
  },
  {
   "cell_type": "code",
   "outputs": [
    {
     "data": {
      "text/plain": "tensor([[0.0404, 0.0375, 0.0499, 0.0741, 0.0348, 0.0418, 0.0427, 0.0819, 0.0583,\n         0.0507, 0.0415, 0.0528, 0.0417, 0.0810, 0.0416, 0.0384, 0.0602, 0.0488,\n         0.0439, 0.0382]])"
     },
     "execution_count": 20,
     "metadata": {},
     "output_type": "execute_result"
    }
   ],
   "source": [
    "pred_proba"
   ],
   "metadata": {
    "collapsed": false,
    "ExecuteTime": {
     "end_time": "2024-09-01T15:13:20.350331Z",
     "start_time": "2024-09-01T15:13:20.346405Z"
    }
   },
   "id": "40f037d4785aaa58",
   "execution_count": 20
  },
  {
   "cell_type": "code",
   "outputs": [],
   "source": [
    "in_features = 128\n",
    "out_features = 64\n",
    "\n",
    "layer_1 = torch.nn.Linear(in_features, out_features, bias=True)\n",
    "act_fn = torch.nn.Tanh()"
   ],
   "metadata": {
    "collapsed": false,
    "ExecuteTime": {
     "end_time": "2024-09-01T15:14:08.567395Z",
     "start_time": "2024-09-01T15:14:08.564767Z"
    }
   },
   "id": "44dcb44350c48928",
   "execution_count": 21
  },
  {
   "cell_type": "code",
   "outputs": [],
   "source": [
    "in_features = 64\n",
    "out_features = 16\n",
    "\n",
    "layer_2 = torch.nn.Linear(in_features, out_features, bias=True)\n",
    "act_fn_2 = torch.nn.Tanh()"
   ],
   "metadata": {
    "collapsed": false,
    "ExecuteTime": {
     "end_time": "2024-09-01T15:14:32.984462Z",
     "start_time": "2024-09-01T15:14:32.982119Z"
    }
   },
   "id": "19e730b04c378670",
   "execution_count": 22
  },
  {
   "cell_type": "code",
   "outputs": [],
   "source": [
    "in_features = 16\n",
    "out_features = 1\n",
    "\n",
    "layer_3 = torch.nn.Linear(in_features, out_features, bias=True)\n",
    "act_fn_3 = torch.nn.Sigmoid()"
   ],
   "metadata": {
    "collapsed": false,
    "ExecuteTime": {
     "end_time": "2024-09-01T15:14:54.598468Z",
     "start_time": "2024-09-01T15:14:54.594463Z"
    }
   },
   "id": "fd645d850c2a13a5",
   "execution_count": 23
  },
  {
   "cell_type": "code",
   "outputs": [
    {
     "data": {
      "text/plain": "torch.Size([8, 64])"
     },
     "execution_count": 26,
     "metadata": {},
     "output_type": "execute_result"
    }
   ],
   "source": [
    "x = torch.rand(8, 128)\n",
    "\n",
    "out_1 = act_fn(layer_1(x))\n",
    "out_1.shape"
   ],
   "metadata": {
    "collapsed": false,
    "ExecuteTime": {
     "end_time": "2024-09-01T15:15:51.644935Z",
     "start_time": "2024-09-01T15:15:51.642208Z"
    }
   },
   "id": "d6e87800cc4b779d",
   "execution_count": 26
  },
  {
   "cell_type": "code",
   "outputs": [
    {
     "data": {
      "text/plain": "torch.Size([8, 16])"
     },
     "execution_count": 27,
     "metadata": {},
     "output_type": "execute_result"
    }
   ],
   "source": [
    "out_2 = act_fn_2(layer_2(out_1))\n",
    "out_2.shape"
   ],
   "metadata": {
    "collapsed": false,
    "ExecuteTime": {
     "end_time": "2024-09-01T15:16:06.723282Z",
     "start_time": "2024-09-01T15:16:06.720331Z"
    }
   },
   "id": "155c05069d923d7e",
   "execution_count": 27
  },
  {
   "cell_type": "code",
   "outputs": [
    {
     "data": {
      "text/plain": "torch.Size([8, 1])"
     },
     "execution_count": 28,
     "metadata": {},
     "output_type": "execute_result"
    }
   ],
   "source": [
    "out_3 = act_fn_3(layer_3(out_2))\n",
    "out_3.shape"
   ],
   "metadata": {
    "collapsed": false,
    "ExecuteTime": {
     "end_time": "2024-09-01T15:16:11.149230Z",
     "start_time": "2024-09-01T15:16:11.146863Z"
    }
   },
   "id": "593d5e08fa37709d",
   "execution_count": 28
  },
  {
   "cell_type": "code",
   "outputs": [
    {
     "data": {
      "text/plain": "tensor([[0.4939],\n        [0.5039],\n        [0.5304],\n        [0.5230],\n        [0.5291],\n        [0.5020],\n        [0.5191],\n        [0.5246]], grad_fn=<SigmoidBackward0>)"
     },
     "execution_count": 29,
     "metadata": {},
     "output_type": "execute_result"
    }
   ],
   "source": [
    "out_3"
   ],
   "metadata": {
    "collapsed": false,
    "ExecuteTime": {
     "end_time": "2024-09-01T15:16:14.231175Z",
     "start_time": "2024-09-01T15:16:14.226705Z"
    }
   },
   "id": "6eb673a1f28fa550",
   "execution_count": 29
  },
  {
   "cell_type": "code",
   "outputs": [],
   "source": [
    "model = nn.Sequential(\n",
    "    torch.nn.Linear(128, 64, bias=True),\n",
    "    torch.nn.Tanh(),\n",
    "    torch.nn.Linear(64, 16, bias=True),\n",
    "    torch.nn.Tanh(),\n",
    "    torch.nn.Linear(16, 1, bias=True),\n",
    "    torch.nn.Sigmoid()\n",
    ")"
   ],
   "metadata": {
    "collapsed": false,
    "ExecuteTime": {
     "end_time": "2024-09-01T15:19:59.553854Z",
     "start_time": "2024-09-01T15:19:59.548577Z"
    }
   },
   "id": "f5d855bae03b60e8",
   "execution_count": 30
  },
  {
   "cell_type": "code",
   "outputs": [],
   "source": [
    "x = torch.rand(32, 128)\n",
    "\n",
    "out = model(x)"
   ],
   "metadata": {
    "collapsed": false,
    "ExecuteTime": {
     "end_time": "2024-09-01T15:20:17.610155Z",
     "start_time": "2024-09-01T15:20:17.606220Z"
    }
   },
   "id": "3621de02a0c867d",
   "execution_count": 31
  },
  {
   "cell_type": "code",
   "outputs": [
    {
     "data": {
      "text/plain": "tensor([[0.4334],\n        [0.4458],\n        [0.4285],\n        [0.4201],\n        [0.4265],\n        [0.4519],\n        [0.4398],\n        [0.4526],\n        [0.4148],\n        [0.4004],\n        [0.4299],\n        [0.4150],\n        [0.4329],\n        [0.4112],\n        [0.4168],\n        [0.4147],\n        [0.4255],\n        [0.3967],\n        [0.4299],\n        [0.4289],\n        [0.4384],\n        [0.4272],\n        [0.4423],\n        [0.4288],\n        [0.3925],\n        [0.4419],\n        [0.4057],\n        [0.4192],\n        [0.4307],\n        [0.4127],\n        [0.4310],\n        [0.4160]], grad_fn=<SigmoidBackward0>)"
     },
     "execution_count": 32,
     "metadata": {},
     "output_type": "execute_result"
    }
   ],
   "source": [
    "out"
   ],
   "metadata": {
    "collapsed": false,
    "ExecuteTime": {
     "end_time": "2024-09-01T15:20:19.057030Z",
     "start_time": "2024-09-01T15:20:19.053823Z"
    }
   },
   "id": "b33e48fc4a073d4d",
   "execution_count": 32
  },
  {
   "cell_type": "code",
   "outputs": [],
   "source": [
    "class Model(torch.nn.Module):\n",
    "    def __init__(self):\n",
    "        super(Model, self).__init__()\n",
    "        self.layers = nn.Sequential(\n",
    "            torch.nn.Linear(128, 64, bias=True),\n",
    "            torch.nn.Tanh(),\n",
    "            torch.nn.Linear(64, 16, bias=True),\n",
    "            torch.nn.Tanh(),\n",
    "            torch.nn.Linear(16, 1, bias=True),\n",
    "            torch.nn.Sigmoid()\n",
    "        )\n",
    "    \n",
    "    def forward(self, x):\n",
    "        return self.layers(x)"
   ],
   "metadata": {
    "collapsed": false,
    "ExecuteTime": {
     "end_time": "2024-09-01T15:39:53.315044Z",
     "start_time": "2024-09-01T15:39:53.309777Z"
    }
   },
   "id": "186e7f04d4b97e7",
   "execution_count": 33
  },
  {
   "cell_type": "code",
   "outputs": [],
   "source": [
    "x = torch.rand(32, 128)\n",
    "model = Model()\n",
    "out = model(x)"
   ],
   "metadata": {
    "collapsed": false,
    "ExecuteTime": {
     "end_time": "2024-09-01T15:40:25.924971Z",
     "start_time": "2024-09-01T15:40:25.918745Z"
    }
   },
   "id": "ab33a53b055d9646",
   "execution_count": 34
  },
  {
   "cell_type": "code",
   "outputs": [
    {
     "data": {
      "text/plain": "Model(\n  (layers): Sequential(\n    (0): Linear(in_features=128, out_features=64, bias=True)\n    (1): Tanh()\n    (2): Linear(in_features=64, out_features=16, bias=True)\n    (3): Tanh()\n    (4): Linear(in_features=16, out_features=1, bias=True)\n    (5): Sigmoid()\n  )\n)"
     },
     "execution_count": 35,
     "metadata": {},
     "output_type": "execute_result"
    }
   ],
   "source": [
    "model"
   ],
   "metadata": {
    "collapsed": false,
    "ExecuteTime": {
     "end_time": "2024-09-01T15:40:30.083753Z",
     "start_time": "2024-09-01T15:40:30.080458Z"
    }
   },
   "id": "6fbd3acd840f94fa",
   "execution_count": 35
  },
  {
   "cell_type": "code",
   "outputs": [
    {
     "name": "stdout",
     "output_type": "stream",
     "text": [
      "Collecting torchsummary\r\n",
      "  Downloading torchsummary-1.5.1-py3-none-any.whl.metadata (296 bytes)\r\n",
      "Downloading torchsummary-1.5.1-py3-none-any.whl (2.8 kB)\r\n",
      "Installing collected packages: torchsummary\r\n",
      "Successfully installed torchsummary-1.5.1\r\n"
     ]
    }
   ],
   "source": [
    "!pip install torchsummary"
   ],
   "metadata": {
    "collapsed": false,
    "ExecuteTime": {
     "end_time": "2024-09-01T15:40:40.601517Z",
     "start_time": "2024-09-01T15:40:39.829476Z"
    }
   },
   "id": "56739aa895194fd2",
   "execution_count": 36
  },
  {
   "cell_type": "code",
   "outputs": [
    {
     "name": "stdout",
     "output_type": "stream",
     "text": [
      "----------------------------------------------------------------\n",
      "        Layer (type)               Output Shape         Param #\n",
      "================================================================\n",
      "            Linear-1                   [-1, 64]           8,256\n",
      "              Tanh-2                   [-1, 64]               0\n",
      "            Linear-3                   [-1, 16]           1,040\n",
      "              Tanh-4                   [-1, 16]               0\n",
      "            Linear-5                    [-1, 1]              17\n",
      "           Sigmoid-6                    [-1, 1]               0\n",
      "================================================================\n",
      "Total params: 9,313\n",
      "Trainable params: 9,313\n",
      "Non-trainable params: 0\n",
      "----------------------------------------------------------------\n",
      "Input size (MB): 0.00\n",
      "Forward/backward pass size (MB): 0.00\n",
      "Params size (MB): 0.04\n",
      "Estimated Total Size (MB): 0.04\n",
      "----------------------------------------------------------------\n"
     ]
    }
   ],
   "source": [
    "from torchsummary import summary\n",
    "\n",
    "summary(model, (128,))"
   ],
   "metadata": {
    "collapsed": false,
    "ExecuteTime": {
     "end_time": "2024-09-01T15:40:59.444284Z",
     "start_time": "2024-09-01T15:40:59.435702Z"
    }
   },
   "id": "afeb122073680a49",
   "execution_count": 37
  },
  {
   "cell_type": "code",
   "outputs": [],
   "source": [],
   "metadata": {
    "collapsed": false
   },
   "id": "29908f1150fcc2cc"
  }
 ],
 "metadata": {
  "kernelspec": {
   "display_name": "Python 3",
   "language": "python",
   "name": "python3"
  },
  "language_info": {
   "codemirror_mode": {
    "name": "ipython",
    "version": 2
   },
   "file_extension": ".py",
   "mimetype": "text/x-python",
   "name": "python",
   "nbconvert_exporter": "python",
   "pygments_lexer": "ipython2",
   "version": "2.7.6"
  }
 },
 "nbformat": 4,
 "nbformat_minor": 5
}
